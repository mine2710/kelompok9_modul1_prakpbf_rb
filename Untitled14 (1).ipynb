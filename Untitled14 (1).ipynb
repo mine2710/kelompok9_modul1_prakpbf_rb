{
  "nbformat": 4,
  "nbformat_minor": 0,
  "metadata": {
    "colab": {
      "provenance": []
    },
    "kernelspec": {
      "name": "python3",
      "display_name": "Python 3"
    },
    "language_info": {
      "name": "python"
    }
  },
  "cells": [
    {
      "cell_type": "code",
      "execution_count": null,
      "metadata": {
        "id": "64i1vozhcFVl"
      },
      "outputs": [],
      "source": [
        "def f(x):\n",
        "    return 4 ** x\n",
        "\n",
        "def g(x):\n",
        "    return x ** x\n",
        "\n",
        "def h(x):\n",
        "    return 3 + x\n"
      ]
    },
    {
      "cell_type": "markdown",
      "source": [
        "dalam kodingan di atas kita bisa memastikan fungsi prosedural atau (Procedural Programming) yang di mana terdapat def yang menggambarkan f(x), g(x), h(x), dana 4**x sebagai 4^x, x**x sebagi x^x dan 3 + x."
      ],
      "metadata": {
        "id": "Zyj45QG5ccjU"
      }
    },
    {
      "cell_type": "code",
      "source": [
        "f = lambda x: 4 ** x\n",
        "g = lambda x: x ** x\n",
        "h = lambda x: 3 + x\n"
      ],
      "metadata": {
        "id": "kZ50R1ZodHmD"
      },
      "execution_count": null,
      "outputs": []
    },
    {
      "cell_type": "markdown",
      "source": [
        "**functional programing** (lambda fuctions):\n",
        "yang dimana menggunakan fungsi lamda untuk mempersikat suatu fungsi, dalam hal ini kita tidak perlulag menngunakan return dan dalam pengisiannya juga tergolong singkat hanya membutuhkan beberapa bari kode saja di bandinkan dengan procedural programing"
      ],
      "metadata": {
        "id": "mgufXb0ydMPm"
      }
    },
    {
      "cell_type": "markdown",
      "source": [
        "# 2. Pemrograman Berbasis Objek"
      ],
      "metadata": {
        "id": "dI2Xf4OveAw_"
      }
    },
    {
      "cell_type": "code",
      "source": [
        "class FungsiKomposisi:\n",
        "    def __init__(self):\n",
        "        pass\n",
        "\n",
        "    def f(self, x):\n",
        "        return 4 ** x\n",
        "\n",
        "    def g(self, x):\n",
        "        return x ** x\n",
        "\n",
        "    def h(self, x):\n",
        "        return 3 + x\n",
        "\n",
        "\n",
        "fungsi = FungsiKomposisi()\n",
        "print(fungsi.f(2))\n"
      ],
      "metadata": {
        "id": "LKhzkb4Qd2WQ"
      },
      "execution_count": null,
      "outputs": []
    },
    {
      "cell_type": "markdown",
      "source": [
        "Kode di atas adalah implementasi dari sebuah kelas Python bernama CompositionFunctions yang memiliki tiga fungsi, yaitu f, g, dan h. Setiap fungsi tersebut memiliki parameter\n",
        "x dan mengembalikan nilai berdasarkan rumus tertentu.\n",
        "\n",
        "Deklarasi Kelas (CompositionFunctions):\n",
        "Kelas ini memiliki tiga fungsi, yaitu f, g, dan h.\n",
        "Fungsi __init__ adalah konstruktor yang\n",
        "tidak melakukan apa-apa dalam contoh ini.\n",
        "\n",
        "Fungsi f(x):\n",
        "Merupakan fungsi eksponensial, 4^x.\n",
        "Parameter x adalah input, dan fungsi mengembalikan hasil dari\n",
        "4^x.\n",
        "\n",
        "Fungsi g(x):\n",
        "Merupakan fungsi pangkat, x^x.\n",
        "Parameter x adalah input, dan fungsi mengembalikan hasil dari x^x.\n",
        "\n",
        "Fungsi h(x):\n",
        "Merupakan fungsi penjumlahan, 3+x.\n",
        "Parameter x adalah input, dan fungsi mengembalikan hasil dari 3+x.\n"
      ],
      "metadata": {
        "id": "gonMoynSegir"
      }
    },
    {
      "cell_type": "markdown",
      "source": [
        "# 3.Analisis Komparasi soal 1 dan 2"
      ],
      "metadata": {
        "id": "7-7X-IFLfwE9"
      }
    },
    {
      "cell_type": "markdown",
      "source": [
        "dari permasalan soal no 1 dan 2 di dapatkan bahwasannya pada pemograman berbasis objek itu memberiakan stuktur yang lebih terorganisir dan modular, tetapi jika kita membandingkannya dengan pemograman berbasis fungsi yang lebih efisen soal penggunaan memory, maupun juga waktu yang di perlukan"
      ],
      "metadata": {
        "id": "YvLLsu8of9AT"
      }
    },
    {
      "cell_type": "markdown",
      "source": [
        "# 4. Penyelesaian Luas Segitiga"
      ],
      "metadata": {
        "id": "geO-UwhhitYg"
      }
    },
    {
      "cell_type": "code",
      "source": [
        "class FungsiKomposisi:\n",
        "    def __init__(self):\n",
        "        pass\n",
        "\n",
        "    def f(self, x):\n",
        "        return 4 ** x\n",
        "\n",
        "    def g(self, x):\n",
        "        return x ** x\n",
        "\n",
        "    def h(self, x):\n",
        "        return 3 + x\n",
        "\n",
        "fungsi = FungsiKomposisi()\n",
        "print(fungsi.f(2))\n"
      ],
      "metadata": {
        "id": "Dr9dTrsOfnaz"
      },
      "execution_count": null,
      "outputs": []
    },
    {
      "cell_type": "markdown",
      "source": [
        "Deklarasi Kelas (Segitiga):\n",
        "\n",
        "Kelas ini memiliki dua atribut, yaitu alas dan tinggi.\n",
        "Fungsi __init__ adalah konstruktor yang digunakan untuk menginisialisasi objek. Dalam contoh ini, objek Segitiga akan memiliki atribut alas dan tinggi saat dibuat.\n",
        "\n",
        "Metode luas(self):\n",
        "Merupakan metode (fungsi) yang menghitung luas segitiga berdasarkan rumus\n",
        "luas =1/2 alas . tinggi.\n",
        "Metode ini menggunakan atribut alas dan tinggi yang telah diinisialisasi sebelumnya.\n",
        "\n"
      ],
      "metadata": {
        "id": "PcUPMorljIEp"
      }
    },
    {
      "cell_type": "code",
      "source": [
        "luas_segitiga = lambda alas, tinggi: 0.5 * alas * tinggi\n",
        "\n",
        "\n",
        "print(luas_segitiga(5, 8))\n"
      ],
      "metadata": {
        "id": "B8samojxjuo4"
      },
      "execution_count": null,
      "outputs": []
    },
    {
      "cell_type": "markdown",
      "source": [
        "sama seperti di atas perbedaanya adalah di pemograman berbasis fungsi yang dimana kodenya bisa lebih sedikit dan dari efisiensinya lebih cepat."
      ],
      "metadata": {
        "id": "RRjfXiVjkDSx"
      }
    }
  ]
}